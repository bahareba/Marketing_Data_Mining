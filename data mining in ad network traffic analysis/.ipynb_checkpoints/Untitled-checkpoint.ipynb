{
 "cells": [
  {
   "cell_type": "code",
   "execution_count": 13,
   "id": "28bde7e7",
   "metadata": {},
   "outputs": [],
   "source": [
    "import pandas as pd\n",
    "import seaborn as sns"
   ]
  },
  {
   "cell_type": "markdown",
   "id": "9dedd1e6",
   "metadata": {},
   "source": [
    "# Data Cleaning"
   ]
  },
  {
   "cell_type": "code",
   "execution_count": 3,
   "id": "82169e83",
   "metadata": {},
   "outputs": [
    {
     "data": {
      "text/html": [
       "<div>\n",
       "<style scoped>\n",
       "    .dataframe tbody tr th:only-of-type {\n",
       "        vertical-align: middle;\n",
       "    }\n",
       "\n",
       "    .dataframe tbody tr th {\n",
       "        vertical-align: top;\n",
       "    }\n",
       "\n",
       "    .dataframe thead th {\n",
       "        text-align: right;\n",
       "    }\n",
       "</style>\n",
       "<table border=\"1\" class=\"dataframe\">\n",
       "  <thead>\n",
       "    <tr style=\"text-align: right;\">\n",
       "      <th></th>\n",
       "      <th>Unnamed: 0</th>\n",
       "      <th>adid</th>\n",
       "      <th>network_name</th>\n",
       "      <th>installed_at</th>\n",
       "      <th>activity_kind</th>\n",
       "      <th>event_name</th>\n",
       "      <th>created_at</th>\n",
       "    </tr>\n",
       "  </thead>\n",
       "  <tbody>\n",
       "    <tr>\n",
       "      <th>0</th>\n",
       "      <td>0</td>\n",
       "      <td>1dcedd19b197650bd08a1f521caa3f8b</td>\n",
       "      <td>Organic</td>\n",
       "      <td>2019-07-06 00:07:04</td>\n",
       "      <td>event</td>\n",
       "      <td>get_contact</td>\n",
       "      <td>2019-07-08 15:33:44</td>\n",
       "    </tr>\n",
       "    <tr>\n",
       "      <th>1</th>\n",
       "      <td>1</td>\n",
       "      <td>d621e1bfa590881a68581733052dce57</td>\n",
       "      <td>Organic</td>\n",
       "      <td>2019-07-06 00:14:50</td>\n",
       "      <td>event</td>\n",
       "      <td>get_contact</td>\n",
       "      <td>2019-07-08 15:53:04</td>\n",
       "    </tr>\n",
       "    <tr>\n",
       "      <th>2</th>\n",
       "      <td>2</td>\n",
       "      <td>7107c045edc8eb4740ea7d8d7fd0b4aa</td>\n",
       "      <td>Organic</td>\n",
       "      <td>2019-07-06 00:33:40</td>\n",
       "      <td>event</td>\n",
       "      <td>new_post_submit</td>\n",
       "      <td>2019-07-08 10:24:14</td>\n",
       "    </tr>\n",
       "    <tr>\n",
       "      <th>3</th>\n",
       "      <td>3</td>\n",
       "      <td>32a53ff379ace92a650f0a41f1d02af1</td>\n",
       "      <td>Organic</td>\n",
       "      <td>2019-07-06 02:33:10</td>\n",
       "      <td>event</td>\n",
       "      <td>get_contact</td>\n",
       "      <td>2019-07-08 09:21:11</td>\n",
       "    </tr>\n",
       "    <tr>\n",
       "      <th>4</th>\n",
       "      <td>4</td>\n",
       "      <td>1eaeca850ef726e6c12475e099a9d9de</td>\n",
       "      <td>Organic</td>\n",
       "      <td>2019-07-06 03:28:56</td>\n",
       "      <td>event</td>\n",
       "      <td>get_contact</td>\n",
       "      <td>2019-07-06 14:00:28</td>\n",
       "    </tr>\n",
       "  </tbody>\n",
       "</table>\n",
       "</div>"
      ],
      "text/plain": [
       "   Unnamed: 0                              adid network_name  \\\n",
       "0           0  1dcedd19b197650bd08a1f521caa3f8b      Organic   \n",
       "1           1  d621e1bfa590881a68581733052dce57      Organic   \n",
       "2           2  7107c045edc8eb4740ea7d8d7fd0b4aa      Organic   \n",
       "3           3  32a53ff379ace92a650f0a41f1d02af1      Organic   \n",
       "4           4  1eaeca850ef726e6c12475e099a9d9de      Organic   \n",
       "\n",
       "          installed_at activity_kind       event_name           created_at  \n",
       "0  2019-07-06 00:07:04         event      get_contact  2019-07-08 15:33:44  \n",
       "1  2019-07-06 00:14:50         event      get_contact  2019-07-08 15:53:04  \n",
       "2  2019-07-06 00:33:40         event  new_post_submit  2019-07-08 10:24:14  \n",
       "3  2019-07-06 02:33:10         event      get_contact  2019-07-08 09:21:11  \n",
       "4  2019-07-06 03:28:56         event      get_contact  2019-07-06 14:00:28  "
      ]
     },
     "execution_count": 3,
     "metadata": {},
     "output_type": "execute_result"
    }
   ],
   "source": [
    "#import csv data\n",
    "df = pd.read_csv('adjust_sampled_data.csv')\n",
    "df.head()"
   ]
  },
  {
   "cell_type": "code",
   "execution_count": 4,
   "id": "cdfbe369",
   "metadata": {},
   "outputs": [],
   "source": [
    "#variable definition\n",
    "# adid : Unique ID of each user , we convert it to userID\n",
    "# network_name : ad network name\n",
    "# installed_at : User installation time (with accuracy of seconds)\n",
    "# activity_kind : Type of activity performed\n",
    "# event_name : Type of event occurred\n",
    "# created_at : Time to occur"
   ]
  },
  {
   "cell_type": "code",
   "execution_count": 10,
   "id": "66b6d580",
   "metadata": {},
   "outputs": [
    {
     "data": {
      "text/html": [
       "<div>\n",
       "<style scoped>\n",
       "    .dataframe tbody tr th:only-of-type {\n",
       "        vertical-align: middle;\n",
       "    }\n",
       "\n",
       "    .dataframe tbody tr th {\n",
       "        vertical-align: top;\n",
       "    }\n",
       "\n",
       "    .dataframe thead th {\n",
       "        text-align: right;\n",
       "    }\n",
       "</style>\n",
       "<table border=\"1\" class=\"dataframe\">\n",
       "  <thead>\n",
       "    <tr style=\"text-align: right;\">\n",
       "      <th></th>\n",
       "      <th>userID</th>\n",
       "      <th>network_name</th>\n",
       "      <th>activity_kind</th>\n",
       "      <th>event_name</th>\n",
       "      <th>date_installed_at</th>\n",
       "      <th>time_installed_at</th>\n",
       "      <th>date_created_at</th>\n",
       "      <th>time_created_at</th>\n",
       "    </tr>\n",
       "  </thead>\n",
       "  <tbody>\n",
       "    <tr>\n",
       "      <th>0</th>\n",
       "      <td>1dcedd19b197650bd08a1f521caa3f8b</td>\n",
       "      <td>Organic</td>\n",
       "      <td>event</td>\n",
       "      <td>get_contact</td>\n",
       "      <td>2019-07-06</td>\n",
       "      <td>00:07:04</td>\n",
       "      <td>2019-07-08</td>\n",
       "      <td>15:33:44</td>\n",
       "    </tr>\n",
       "    <tr>\n",
       "      <th>1</th>\n",
       "      <td>d621e1bfa590881a68581733052dce57</td>\n",
       "      <td>Organic</td>\n",
       "      <td>event</td>\n",
       "      <td>get_contact</td>\n",
       "      <td>2019-07-06</td>\n",
       "      <td>00:14:50</td>\n",
       "      <td>2019-07-08</td>\n",
       "      <td>15:53:04</td>\n",
       "    </tr>\n",
       "    <tr>\n",
       "      <th>2</th>\n",
       "      <td>7107c045edc8eb4740ea7d8d7fd0b4aa</td>\n",
       "      <td>Organic</td>\n",
       "      <td>event</td>\n",
       "      <td>new_post_submit</td>\n",
       "      <td>2019-07-06</td>\n",
       "      <td>00:33:40</td>\n",
       "      <td>2019-07-08</td>\n",
       "      <td>10:24:14</td>\n",
       "    </tr>\n",
       "    <tr>\n",
       "      <th>3</th>\n",
       "      <td>32a53ff379ace92a650f0a41f1d02af1</td>\n",
       "      <td>Organic</td>\n",
       "      <td>event</td>\n",
       "      <td>get_contact</td>\n",
       "      <td>2019-07-06</td>\n",
       "      <td>02:33:10</td>\n",
       "      <td>2019-07-08</td>\n",
       "      <td>09:21:11</td>\n",
       "    </tr>\n",
       "    <tr>\n",
       "      <th>4</th>\n",
       "      <td>1eaeca850ef726e6c12475e099a9d9de</td>\n",
       "      <td>Organic</td>\n",
       "      <td>event</td>\n",
       "      <td>get_contact</td>\n",
       "      <td>2019-07-06</td>\n",
       "      <td>03:28:56</td>\n",
       "      <td>2019-07-06</td>\n",
       "      <td>14:00:28</td>\n",
       "    </tr>\n",
       "  </tbody>\n",
       "</table>\n",
       "</div>"
      ],
      "text/plain": [
       "                             userID network_name activity_kind  \\\n",
       "0  1dcedd19b197650bd08a1f521caa3f8b      Organic         event   \n",
       "1  d621e1bfa590881a68581733052dce57      Organic         event   \n",
       "2  7107c045edc8eb4740ea7d8d7fd0b4aa      Organic         event   \n",
       "3  32a53ff379ace92a650f0a41f1d02af1      Organic         event   \n",
       "4  1eaeca850ef726e6c12475e099a9d9de      Organic         event   \n",
       "\n",
       "        event_name date_installed_at time_installed_at date_created_at  \\\n",
       "0      get_contact        2019-07-06          00:07:04      2019-07-08   \n",
       "1      get_contact        2019-07-06          00:14:50      2019-07-08   \n",
       "2  new_post_submit        2019-07-06          00:33:40      2019-07-08   \n",
       "3      get_contact        2019-07-06          02:33:10      2019-07-08   \n",
       "4      get_contact        2019-07-06          03:28:56      2019-07-06   \n",
       "\n",
       "  time_created_at  \n",
       "0        15:33:44  \n",
       "1        15:53:04  \n",
       "2        10:24:14  \n",
       "3        09:21:11  \n",
       "4        14:00:28  "
      ]
     },
     "execution_count": 10,
     "metadata": {},
     "output_type": "execute_result"
    }
   ],
   "source": [
    "# split time columns\n",
    "df['installed_at']= pd.to_datetime(df['installed_at'])\n",
    "df['date_installed_at'] = df['installed_at'].dt.date\n",
    "df['time_installed_at'] = df['installed_at'].dt.time\n",
    "\n",
    "df['created_at']= pd.to_datetime(df['created_at'])\n",
    "df['date_created_at'] = df['created_at'].dt.date\n",
    "df['time_created_at'] = df['created_at'].dt.time\n",
    "\n",
    "# Clear extra columns\n",
    "df[\"userID\"] = df['adid'].copy()\n",
    "df1 = df.drop(['adid','created_at','installed_at'],axis=1)\n",
    "\n",
    "# sort\n",
    "df1 = df1[['userID', 'network_name','activity_kind','event_name','date_installed_at','time_installed_at','date_created_at','time_created_at']]\n",
    "\n",
    "df1.head()"
   ]
  },
  {
   "cell_type": "code",
   "execution_count": 11,
   "id": "18ae95fa",
   "metadata": {},
   "outputs": [
    {
     "name": "stdout",
     "output_type": "stream",
     "text": [
      "<class 'pandas.core.frame.DataFrame'>\n",
      "RangeIndex: 785168 entries, 0 to 785167\n",
      "Data columns (total 8 columns):\n",
      " #   Column             Non-Null Count   Dtype \n",
      "---  ------             --------------   ----- \n",
      " 0   userID             785168 non-null  object\n",
      " 1   network_name       785168 non-null  object\n",
      " 2   activity_kind      785168 non-null  object\n",
      " 3   event_name         681147 non-null  object\n",
      " 4   date_installed_at  785168 non-null  object\n",
      " 5   time_installed_at  785168 non-null  object\n",
      " 6   date_created_at    785168 non-null  object\n",
      " 7   time_created_at    785168 non-null  object\n",
      "dtypes: object(8)\n",
      "memory usage: 47.9+ MB\n"
     ]
    }
   ],
   "source": [
    "# nan variables\n",
    "df1.info()"
   ]
  },
  {
   "cell_type": "code",
   "execution_count": 14,
   "id": "b6e9de1f",
   "metadata": {},
   "outputs": [
    {
     "data": {
      "image/png": "[encoded data removed]",
      "text/plain": [
       "<Figure size 432x288 with 2 Axes>"
      ]
     },
     "metadata": {
      "needs_background": "light"
     },
     "output_type": "display_data"
    }
   ],
   "source": [
    "# If an event has occurred, column A has a value, otherwise it is empty. \n",
    "# So having null information in this column is OK.\n",
    "heat_map = sns.heatmap(df1.isnull(), yticklabels = False, cbar = True, cmap = \"PuRd\", vmin = 0, vmax = 1)"
   ]
  },
  {
   "cell_type": "code",
   "execution_count": null,
   "id": "d0a07ddf",
   "metadata": {},
   "outputs": [],
   "source": []
  }
 ],
 "metadata": {
  "kernelspec": {
   "display_name": "Python 3",
   "language": "python",
   "name": "python3"
  },
  "language_info": {
   "codemirror_mode": {
    "name": "ipython",
    "version": 3
   },
   "file_extension": ".py",
   "mimetype": "text/x-python",
   "name": "python",
   "nbconvert_exporter": "python",
   "pygments_lexer": "ipython3",
   "version": "3.8.8"
  }
 },
 "nbformat": 4,
 "nbformat_minor": 5
}
